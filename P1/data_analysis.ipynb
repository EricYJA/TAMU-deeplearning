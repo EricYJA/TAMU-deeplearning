{
 "cells": [
  {
   "cell_type": "markdown",
   "id": "26821fd0",
   "metadata": {},
   "source": [
    "### Analysis Given Data"
   ]
  },
  {
   "cell_type": "code",
   "execution_count": 22,
   "id": "8575ed8f",
   "metadata": {},
   "outputs": [],
   "source": [
    "# use pickle load the data\n",
    "import pickle\n",
    "import numpy as np\n",
    "import matplotlib.pyplot as plt\n",
    "import os\n",
    "from solve_m_height_cpp import solveMHeight_glpk\n",
    "import time\n",
    "\n",
    "from data_loader_saver import load_data, save_data\n"
   ]
  },
  {
   "cell_type": "code",
   "execution_count": 23,
   "id": "1804d712",
   "metadata": {},
   "outputs": [],
   "source": [
    "m_h_datapath = \"../data/project/DS-15-samples_mHeights\"\n",
    "n_k_m_datapath = \"../data/project/DS-15-samples_n_k_m_P\""
   ]
  },
  {
   "cell_type": "code",
   "execution_count": 24,
   "id": "1c654205",
   "metadata": {},
   "outputs": [
    {
     "name": "stdout",
     "output_type": "stream",
     "text": [
      "m_heights type: <class 'list'>, length: 32087\n",
      "n_k_m type: <class 'list'>, length: 32087\n",
      "First 5 m_heights: \n",
      "11.472222222222221\n",
      "First 5 n_k_m: \n",
      "[9, 4, 2, array([[ 1, -2,  2, -1,  4],\n",
      "       [ 3,  0, -2,  1,  3],\n",
      "       [ 0,  4,  4,  4,  3],\n",
      "       [-3, -1,  4,  1, -4]])]\n",
      "num samples:32087, 32087\n",
      "Identity matrix shape: (4, 4)\n",
      "G matrix shape: (4, 9)\n",
      "G matrix: \n",
      "[[ 1.  0.  0.  0.  1. -2.  2. -1.  4.]\n",
      " [ 0.  1.  0.  0.  3.  0. -2.  1.  3.]\n",
      " [ 0.  0.  1.  0.  0.  4.  4.  4.  3.]\n",
      " [ 0.  0.  0.  1. -3. -1.  4.  1. -4.]]\n",
      "Calculated m_height: \n",
      "11.472222222222223\n",
      "Given m_height: \n",
      "11.472222222222221\n"
     ]
    }
   ],
   "source": [
    "n_k_m_P, m_heights = load_data(n_k_m_datapath, m_h_datapath)\n",
    "\n",
    "# quick sanity checks\n",
    "print(f'm_heights type: {type(m_heights)}, length: {len(m_heights)}')\n",
    "print(f'n_k_m type: {type(n_k_m_P)}, length: {len(n_k_m_P)}')\n",
    "\n",
    "print(f'First 5 m_heights: \\n{m_heights[0]}')\n",
    "print(f'First 5 n_k_m: \\n{n_k_m_P[0]}')\n",
    "\n",
    "print(f'num samples:{len(m_heights)}, {len(n_k_m_P)}')\n",
    "\n",
    "k = n_k_m_P[0][1]\n",
    "#create identity matrix of size k by k\n",
    "I_k = np.eye(k)\n",
    "\n",
    "print(f'Identity matrix shape: {I_k.shape}')\n",
    "\n",
    "#construct G matrix as I_k | M\n",
    "M = n_k_m_P[0][3]\n",
    "G = np.hstack((I_k, M))\n",
    "\n",
    "print(f'G matrix shape: {G.shape}')\n",
    "print(f'G matrix: \\n{G}')\n",
    "\n",
    "m = n_k_m_P[0][2]\n",
    "m_h_calc = solveMHeight_glpk(G, m)[0]\n",
    "\n",
    "print(f'Calculated m_height: \\n{m_h_calc}')\n",
    "print(f'Given m_height: \\n{m_heights[0]}')"
   ]
  },
  {
   "cell_type": "code",
   "execution_count": 25,
   "id": "e62f6c41",
   "metadata": {},
   "outputs": [
    {
     "name": "stdout",
     "output_type": "stream",
     "text": [
      "Number of unique (n, k, m) combinations: 9\n",
      "Unique (n, k, m) combinations: [(9, 4, 2), (9, 4, 3), (9, 4, 4), (9, 4, 5), (9, 5, 2), (9, 5, 3), (9, 5, 4), (9, 6, 2), (9, 6, 3)]\n",
      "Counts and G stats per (n, k, m):\n",
      "(9, 4, 2): count=2677, G_min=-100, G_max=100\n",
      "(9, 4, 3): count=2588, G_min=-100, G_max=100\n",
      "(9, 4, 4): count=2376, G_min=-100, G_max=100\n",
      "(9, 4, 5): count=1494, G_min=-100, G_max=100\n",
      "(9, 5, 2): count=3579, G_min=-100, G_max=100\n",
      "(9, 5, 3): count=3286, G_min=-100, G_max=100\n",
      "(9, 5, 4): count=2002, G_min=-100, G_max=100\n",
      "(9, 6, 2): count=9336, G_min=-100, G_max=100\n",
      "(9, 6, 3): count=4749, G_min=-100, G_max=100\n"
     ]
    }
   ],
   "source": [
    "from collections import Counter\n",
    "\n",
    "combo_counter = Counter()\n",
    "combo_stats = {}\n",
    "for sample in n_k_m_P:\n",
    "    n_k_m = tuple(sample[:3])\n",
    "    G_values = np.asarray(sample[3])\n",
    "    combo_counter[n_k_m] += 1\n",
    "\n",
    "    g_min = G_values.min()\n",
    "    g_max = G_values.max()\n",
    "    if n_k_m not in combo_stats:\n",
    "        combo_stats[n_k_m] = {'min': g_min, 'max': g_max}\n",
    "    else:\n",
    "        combo_stats[n_k_m]['min'] = min(combo_stats[n_k_m]['min'], g_min)\n",
    "        combo_stats[n_k_m]['max'] = max(combo_stats[n_k_m]['max'], g_max)\n",
    "\n",
    "unique_n_k_m = list(combo_counter.keys())\n",
    "unique_n_k_m_count = list(combo_counter.values())\n",
    "\n",
    "print(f'Number of unique (n, k, m) combinations: {len(unique_n_k_m)}')\n",
    "print(f'Unique (n, k, m) combinations: {unique_n_k_m}')\n",
    "print('Counts and G stats per (n, k, m):')\n",
    "for combo in unique_n_k_m:\n",
    "    count = combo_counter[combo]\n",
    "    g_min = combo_stats[combo]['min']\n",
    "    g_max = combo_stats[combo]['max']\n",
    "    print(f'{combo}: count={count}, G_min={g_min}, G_max={g_max}')\n"
   ]
  },
  {
   "cell_type": "markdown",
   "id": "08da7d66",
   "metadata": {},
   "source": [
    "### Generate Training Set\n",
    "\n",
    "Since we don't have enough data for each n_k_m pair, we will generate more data for each unique m_k_m pair so that we have can train a seperate neural network for each n_k_m pair. \n"
   ]
  },
  {
   "cell_type": "code",
   "execution_count": 26,
   "id": "39101bb1",
   "metadata": {},
   "outputs": [
    {
     "name": "stdout",
     "output_type": "stream",
     "text": [
      "Execution time: 3.2431046962738037 seconds\n"
     ]
    }
   ],
   "source": [
    "from run_gen_data_set import gen_training_samples\n",
    "\n",
    "start_time = time.time()\n",
    "n_k_m_G_samples, m_h_samples = gen_training_samples(9, 4, 2, 100)\n",
    "end_time = time.time()\n",
    "\n",
    "execution_time = end_time - start_time\n",
    "print(f\"Execution time: {execution_time} seconds\")"
   ]
  },
  {
   "cell_type": "code",
   "execution_count": 19,
   "id": "9daecdf8",
   "metadata": {},
   "outputs": [
    {
     "name": "stdout",
     "output_type": "stream",
     "text": [
      "((9, 4, 2, array([[ 27,  94,  11,   9, -19],\n",
      "       [ 38, -48,  -8, -28, -68],\n",
      "       [-39, -32, -85, -34, -30],\n",
      "       [-65,  20, -18,  89,   7]])), 126.52074345407694)\n"
     ]
    }
   ],
   "source": [
    "print(f'{n_k_m_G_samples[0], m_h_samples[0]}')"
   ]
  },
  {
   "cell_type": "markdown",
   "id": "128a7a96",
   "metadata": {},
   "source": []
  }
 ],
 "metadata": {
  "kernelspec": {
   "display_name": "ml-tf-env",
   "language": "python",
   "name": "python3"
  },
  "language_info": {
   "codemirror_mode": {
    "name": "ipython",
    "version": 3
   },
   "file_extension": ".py",
   "mimetype": "text/x-python",
   "name": "python",
   "nbconvert_exporter": "python",
   "pygments_lexer": "ipython3",
   "version": "3.10.18"
  }
 },
 "nbformat": 4,
 "nbformat_minor": 5
}
