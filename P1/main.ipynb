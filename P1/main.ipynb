{
 "cells": [
  {
   "cell_type": "code",
   "execution_count": null,
   "id": "1804d712",
   "metadata": {},
   "outputs": [],
   "source": [
    "m_h_datapath = \"../data/project/DS-15-samples_mHeights\"\n",
    "n_k_m_datapath = \"../data/project/DS-15-samples_n_k_m_P\""
   ]
  },
  {
   "cell_type": "code",
   "execution_count": 3,
   "id": "1c654205",
   "metadata": {},
   "outputs": [
    {
     "name": "stdout",
     "output_type": "stream",
     "text": [
      "m_heights type: <class 'list'>, length: 32087\n",
      "weights type: <class 'list'>, length: 32087\n",
      "First 5 m_heights: [11.472222222222221, 17.875, 30.0, 5.5, 8.5]\n",
      "First 5 weights: [[9, 4, 2, array([[ 1, -2,  2, -1,  4],\n",
      "       [ 3,  0, -2,  1,  3],\n",
      "       [ 0,  4,  4,  4,  3],\n",
      "       [-3, -1,  4,  1, -4]])], [9, 4, 3, array([[ 1, -2,  2, -1,  4],\n",
      "       [ 3,  0, -2,  1,  3],\n",
      "       [ 0,  4,  4,  4,  3],\n",
      "       [-3, -1,  4,  1, -4]])], [9, 4, 4, array([[ 1, -2,  2, -1,  4],\n",
      "       [ 3,  0, -2,  1,  3],\n",
      "       [ 0,  4,  4,  4,  3],\n",
      "       [-3, -1,  4,  1, -4]])], [9, 4, 2, array([[ 4, -3,  1,  1, -2],\n",
      "       [ 1, -2,  0,  2,  0],\n",
      "       [-2,  3, -1, -2,  2],\n",
      "       [-2, -1, -3, -2,  2]])], [9, 4, 3, array([[ 4, -3,  1,  1, -2],\n",
      "       [ 1, -2,  0,  2,  0],\n",
      "       [-2,  3, -1, -2,  2],\n",
      "       [-2, -1, -3, -2,  2]])]]\n"
     ]
    }
   ],
   "source": [
    "# use pickle load the data\n",
    "import pickle\n",
    "import numpy as np\n",
    "import matplotlib.pyplot as plt\n",
    "import os\n",
    "\n",
    "with open(m_h_datapath, 'rb') as f:\n",
    "    m_heights = pickle.load(f)\n",
    "\n",
    "with open(m_h_weights_path, 'rb') as f:\n",
    "    weights = pickle.load(f)\n",
    "\n",
    "# quick sanity checks\n",
    "print(f'm_heights type: {type(m_heights)}, length: {len(m_heights)}')\n",
    "print(f'weights type: {type(weights)}, length: {len(weights)}')\n",
    "\n",
    "print(f'First 5 m_heights: {m_heights[:5]}')\n",
    "print(f'First 5 weights: {weights[:5]}')\n"
   ]
  },
  {
   "cell_type": "code",
   "execution_count": null,
   "id": "e62f6c41",
   "metadata": {},
   "outputs": [],
   "source": []
  }
 ],
 "metadata": {
  "kernelspec": {
   "display_name": "tf-mps-39",
   "language": "python",
   "name": "python3"
  },
  "language_info": {
   "codemirror_mode": {
    "name": "ipython",
    "version": 3
   },
   "file_extension": ".py",
   "mimetype": "text/x-python",
   "name": "python",
   "nbconvert_exporter": "python",
   "pygments_lexer": "ipython3",
   "version": "3.9.23"
  }
 },
 "nbformat": 4,
 "nbformat_minor": 5
}
