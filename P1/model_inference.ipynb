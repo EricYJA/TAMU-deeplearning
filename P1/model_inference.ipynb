{
 "cells": [
  {
   "cell_type": "code",
   "execution_count": 7,
   "id": "a3146fbd",
   "metadata": {},
   "outputs": [],
   "source": [
    "import numpy as np\n",
    "import tensorflow as tf\n",
    "from pathlib import Path\n",
    "\n",
    "from data_loader_saver import load_data\n",
    "from model_mheight import (\n",
    "    SUPPORTED_COMBOS,\n",
    "    ColumnWiseSetEncoder,\n",
    "    MHeightRegressor,\n",
    "    TransformerBlock,\n",
    "    symmetric_relative_loss,\n",
    ")"
   ]
  },
  {
   "cell_type": "code",
   "execution_count": 8,
   "id": "b9996587",
   "metadata": {},
   "outputs": [],
   "source": [
    "m_h_datapath = \"../data/project/test_samples_m_h.pkl\"\n",
    "n_k_m_datapath = \"../data/project/test_samples_n_k_m_G.pkl\"\n",
    "\n",
    "models_dir = Path(\"trained_models\")\n",
    "\n",
    "inference_sample_num = 100"
   ]
  },
  {
   "cell_type": "code",
   "execution_count": 9,
   "id": "0e6e5086",
   "metadata": {},
   "outputs": [],
   "source": [
    "n_k_m_P, m_heights = load_data(n_k_m_datapath, m_h_datapath)\n",
    "\n",
    "custom_objects = {\n",
    "    \"TransformerBlock\": TransformerBlock,\n",
    "    \"ColumnWiseSetEncoder\": ColumnWiseSetEncoder,\n",
    "    \"MHeightRegressor\": MHeightRegressor,\n",
    "    \"symmetric_relative_loss\": symmetric_relative_loss,\n",
    "}\n",
    "\n",
    "def load_model_cache(models_directory: Path, combos=SUPPORTED_COMBOS) -> dict:\n",
    "    \"\"\"Load the pre-trained model for each supported (n, k, m) combo.\"\"\"\n",
    "    model_cache = {}\n",
    "    for combo in combos:\n",
    "        model_path = models_directory / f\"{combo[0]}_{combo[1]}_{combo[2]}_model\"\n",
    "        model_cache[combo] = tf.keras.models.load_model(\n",
    "            model_path,\n",
    "            compile=False,\n",
    "            custom_objects=custom_objects,\n",
    "        )\n",
    "    return model_cache\n",
    "\n",
    "def predict_m_heights(samples, model_cache) -> list:\n",
    "    \"\"\"Infer m-height for each sample in n_k_m_P.\"\"\"\n",
    "    predictions = []\n",
    "    for sample in samples:\n",
    "        combo = tuple(sample[:3])\n",
    "        if combo not in model_cache:\n",
    "            raise ValueError(f\"No trained model for combo {combo}.\")\n",
    "        matrix = np.asarray(sample[3], dtype=np.float32)[None, ...]\n",
    "        pred = float(model_cache[combo].predict(matrix, verbose=0)[0])\n",
    "        predictions.append(pred)\n",
    "    return predictions\n",
    "\n",
    "def analyze_prediction_errors(predictions, targets, samples, combos=SUPPORTED_COMBOS) -> dict:\n",
    "    \"\"\"Compute absolute and symmetric ratio errors overall and per combo.\"\"\"\n",
    "    abs_errors = []\n",
    "    ratio_errors = []\n",
    "    combo_abs = {combo: [] for combo in combos}\n",
    "    combo_ratio = {combo: [] for combo in combos}\n",
    "    for pred, target, sample in zip(predictions, targets, samples):\n",
    "        combo = tuple(sample[:3])\n",
    "        abs_err = float(abs(pred - target))\n",
    "        abs_errors.append(abs_err)\n",
    "        if combo in combo_abs:\n",
    "            combo_abs[combo].append(abs_err)\n",
    "        if pred > 0 and target > 0:\n",
    "            ratio_err = float(max(pred / target, target / pred))\n",
    "        else:\n",
    "            ratio_err = float('nan')\n",
    "        ratio_errors.append(ratio_err)\n",
    "        if combo in combo_ratio:\n",
    "            combo_ratio[combo].append(ratio_err)\n",
    "    overall_abs = float(np.mean(abs_errors)) if abs_errors else float('nan')\n",
    "    overall_ratio = float(np.nanmean(ratio_errors)) if ratio_errors else float('nan')\n",
    "    per_combo = {}\n",
    "    for combo in combos:\n",
    "        abs_vals = combo_abs[combo]\n",
    "        ratio_vals = combo_ratio[combo]\n",
    "        per_combo[combo] = {\n",
    "            'count': len(abs_vals),\n",
    "            'mean_abs': float(np.mean(abs_vals)) if abs_vals else float('nan'),\n",
    "            'mean_ratio': float(np.nanmean(ratio_vals)) if ratio_vals else float('nan'),\n",
    "        }\n",
    "    return {\n",
    "        'overall_mean_abs': overall_abs,\n",
    "        'overall_mean_ratio': overall_ratio,\n",
    "        'per_combo': per_combo,\n",
    "    }\n",
    "\n",
    "model_cache = load_model_cache(models_dir)\n",
    "\n"
   ]
  },
  {
   "cell_type": "code",
   "execution_count": 13,
   "id": "1e6f88e3",
   "metadata": {},
   "outputs": [
    {
     "name": "stdout",
     "output_type": "stream",
     "text": [
      "Predicted m-heights for 100 samples:\n",
      "[4908.98876953125, 8153.56982421875, 359.34722900390625, 110.38915252685547, 4913.275390625, 8046.72900390625, 62.6585807800293, 269.9351501464844, 56.98933029174805, 517.0590209960938] ...\n"
     ]
    }
   ],
   "source": [
    "rng = np.random.default_rng(42)\n",
    "num_samples = min(inference_sample_num, len(n_k_m_P))\n",
    "sampled_indices = rng.choice(len(n_k_m_P), size=num_samples, replace=False)\n",
    "sampled_features = [n_k_m_P[idx] for idx in sampled_indices]\n",
    "sampled_targets = [m_heights[idx] for idx in sampled_indices]\n",
    "\n",
    "predicted_m_heights = predict_m_heights(sampled_features, model_cache)\n",
    "\n",
    "print(f\"Predicted m-heights for {num_samples} samples:\")\n",
    "print(f\"{predicted_m_heights[0:10]} ...\")"
   ]
  },
  {
   "cell_type": "code",
   "execution_count": 14,
   "id": "56004a06",
   "metadata": {},
   "outputs": [
    {
     "name": "stdout",
     "output_type": "stream",
     "text": [
      "Random sample size: 100\n",
      "Overall mean absolute error: 25992.666347\n",
      "Overall symmetric ratio error: 5.666596\n",
      "(9, 4, 2): mean |pred - gt| = 106.577901, mean ratio = 4.178997 (samples=9)\n",
      "(9, 4, 3): mean |pred - gt| = 193.558822, mean ratio = 4.408251 (samples=11)\n",
      "(9, 4, 4): mean |pred - gt| = 571.337664, mean ratio = 3.021044 (samples=7)\n",
      "(9, 4, 5): mean |pred - gt| = 18369.599148, mean ratio = 4.739743 (samples=16)\n",
      "(9, 5, 2): mean |pred - gt| = 203.017941, mean ratio = 2.553555 (samples=11)\n",
      "(9, 5, 3): mean |pred - gt| = 684.752366, mean ratio = 2.753337 (samples=11)\n",
      "(9, 5, 4): mean |pred - gt| = 149482.311848, mean ratio = 19.617391 (samples=15)\n",
      "(9, 6, 2): mean |pred - gt| = 230.287249, mean ratio = 1.391927 (samples=12)\n",
      "(9, 6, 3): mean |pred - gt| = 5437.717310, mean ratio = 1.779362 (samples=8)\n"
     ]
    }
   ],
   "source": [
    "error_metrics = analyze_prediction_errors(predicted_m_heights, sampled_targets, sampled_features)\n",
    "\n",
    "print(f\"Random sample size: {num_samples}\")\n",
    "print(f\"Overall mean absolute error: {error_metrics['overall_mean_abs']:.6f}\")\n",
    "print(f\"Overall symmetric ratio error: {error_metrics['overall_mean_ratio']:.6f}\")\n",
    "for combo, stats in error_metrics['per_combo'].items():\n",
    "    count = stats['count']\n",
    "    if count == 0:\n",
    "        continue\n",
    "    print(\n",
    "        f\"{combo}: mean |pred - gt| = {stats['mean_abs']:.6f}, \"\n",
    "        f\"mean ratio = {stats['mean_ratio']:.6f} (samples={count})\"\n",
    "    )"
   ]
  }
 ],
 "metadata": {
  "kernelspec": {
   "display_name": "ml-tf-env",
   "language": "python",
   "name": "python3"
  },
  "language_info": {
   "codemirror_mode": {
    "name": "ipython",
    "version": 3
   },
   "file_extension": ".py",
   "mimetype": "text/x-python",
   "name": "python",
   "nbconvert_exporter": "python",
   "pygments_lexer": "ipython3",
   "version": "3.10.18"
  }
 },
 "nbformat": 4,
 "nbformat_minor": 5
}
